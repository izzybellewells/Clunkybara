{
 "cells": [
  {
   "cell_type": "markdown",
   "id": "852fa578-4a51-4a04-963a-e1dd46c8f047",
   "metadata": {},
   "source": [
    "The turtle will be named Oogway. Four shapes will be drawn with different colored lines and fill colors. It will draw a green hexagon, then an orange square that is rotated to look like a diamond, a red octagon, and finally a blue heptagon. The shapes will be placed in a way that is like a trapezoid, with the smaller distance between the shapes at the top and a larger distance between the shapes at the bottom."
   ]
  },
  {
   "cell_type": "code",
   "execution_count": 1,
   "id": "2ba04ed8-a2f0-4ba7-86f3-83d3006b9f7f",
   "metadata": {},
   "outputs": [],
   "source": [
    "import turtle\n",
    "from time import sleep\n",
    "\n",
    "class TurtleGon(turtle.Turtle):\n",
    "    def colorgon(self, colorlist, side=50, fillcolor=None):\n",
    "        angle = 180 - 180 * (len(colorlist) - 2) / len(colorlist)\n",
    "        if fillcolor is not None:\n",
    "            self.fillcolor(fillcolor)\n",
    "            self.begin_fill()\n",
    "        for color in colorlist:\n",
    "            self.pencolor(color)\n",
    "            self.forward(side)\n",
    "            self.left(angle)\n",
    "        if fillcolor is not None:\n",
    "            self.end_fill()\n",
    "        return"
   ]
  },
  {
   "cell_type": "markdown",
   "id": "7e274fcb-f6f6-49db-a4e6-531d95ba45db",
   "metadata": {},
   "source": [
    "Now the turtle is given the name \"oogway\"."
   ]
  },
  {
   "cell_type": "code",
   "execution_count": 2,
   "id": "e8e1e780-124b-41cc-9dae-ef78f67f07b9",
   "metadata": {},
   "outputs": [],
   "source": [
    "oogway = TurtleGon()\n",
    "sleep(5)"
   ]
  },
  {
   "cell_type": "markdown",
   "id": "6e621800-3e80-4dc0-a5e3-f977782c1574",
   "metadata": {},
   "source": [
    "Oogway will draw a hexagon with blue and cyan sides and filled with green."
   ]
  },
  {
   "cell_type": "code",
   "execution_count": 3,
   "id": "6f2cdbe5-1146-467f-85ce-25f53704d42e",
   "metadata": {},
   "outputs": [],
   "source": [
    "oogway.colorgon([\"blue\",\"cyan\",\"blue\",\"cyan\",\"blue\",\"cyan\"], fillcolor=\"green\")"
   ]
  },
  {
   "cell_type": "markdown",
   "id": "021b3893-42df-44d3-b2ef-8a1395a94e75",
   "metadata": {},
   "source": [
    "Now Oogway will move to the left of the hexagon and draw an orange diamond shape outlined in magenta."
   ]
  },
  {
   "cell_type": "code",
   "execution_count": 4,
   "id": "21ed1f3c-e1da-4ffd-b11f-ce1ead854ba0",
   "metadata": {},
   "outputs": [],
   "source": [
    "oogway.penup()\n",
    "oogway.forward(-100)\n",
    "oogway.left(50)\n",
    "oogway.pendown()"
   ]
  },
  {
   "cell_type": "code",
   "execution_count": 5,
   "id": "4a62dc4b-d694-49cc-9f4a-a2483e5ec488",
   "metadata": {},
   "outputs": [],
   "source": [
    "oogway.colorgon([\"magenta\",\"magenta\",\"magenta\",\"magenta\"], fillcolor=\"orange\")"
   ]
  },
  {
   "cell_type": "markdown",
   "id": "ed9fdcb1-120a-4803-8d5f-f0595b79242b",
   "metadata": {},
   "source": [
    "Oogway will move diagonally to the left of the diamond and draw a red octagon outlined in black."
   ]
  },
  {
   "cell_type": "code",
   "execution_count": 6,
   "id": "ea74b75f-b3a7-4220-bd12-d0dba232302c",
   "metadata": {},
   "outputs": [],
   "source": [
    "oogway.penup()\n",
    "oogway.backward(200)\n",
    "oogway.right(50)\n",
    "oogway.pendown()"
   ]
  },
  {
   "cell_type": "code",
   "execution_count": 7,
   "id": "80b7ec48-778e-45ac-ad0e-9e65e978909a",
   "metadata": {},
   "outputs": [],
   "source": [
    "oogway.colorgon([\"black\",\"black\",\"black\",\"black\",\"black\",\"black\",\"black\",\"black\"], fillcolor=\"red\")"
   ]
  },
  {
   "cell_type": "markdown",
   "id": "65ef19ea-6219-4517-a0dd-eb5b790c62a4",
   "metadata": {},
   "source": [
    "Oogway will move to the right to be diagonal to the green hexagon. Then a blue heptagon will be outlined in red, yellow, and green. Then Oogway will stop drawing."
   ]
  },
  {
   "cell_type": "code",
   "execution_count": 8,
   "id": "013afd05-3cfa-475f-9078-1a5f284e32c0",
   "metadata": {},
   "outputs": [],
   "source": [
    "oogway.penup()\n",
    "oogway.forward(350)\n",
    "oogway.pendown()"
   ]
  },
  {
   "cell_type": "code",
   "execution_count": 9,
   "id": "7b1a0610-e5a1-43dc-884e-2e5c9b987ebd",
   "metadata": {},
   "outputs": [],
   "source": [
    "oogway.colorgon([\"red\",\"green\",\"yellow\",\"yellow\",\"yellow\",\"green\",\"red\"], fillcolor=\"blue\")\n",
    "sleep(5)"
   ]
  }
 ],
 "metadata": {
  "kernelspec": {
   "display_name": "Python 3 (ipykernel)",
   "language": "python",
   "name": "python3"
  },
  "language_info": {
   "codemirror_mode": {
    "name": "ipython",
    "version": 3
   },
   "file_extension": ".py",
   "mimetype": "text/x-python",
   "name": "python",
   "nbconvert_exporter": "python",
   "pygments_lexer": "ipython3",
   "version": "3.12.8"
  }
 },
 "nbformat": 4,
 "nbformat_minor": 5
}
