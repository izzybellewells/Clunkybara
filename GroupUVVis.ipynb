{
 "cells": [
  {
   "cell_type": "markdown",
   "id": "02a0f883-9b1f-4c69-9992-5a0215c70714",
   "metadata": {},
   "source": [
    "# UV-Vis Data Collection Project"
   ]
  },
  {
   "cell_type": "markdown",
   "id": "0bca4c29-b710-4bba-bf6b-f0b71602fdd9",
   "metadata": {},
   "source": [
    "### Goals"
   ]
  },
  {
   "cell_type": "markdown",
   "id": "cac5bde6-146d-4dea-bfe6-034e5a1100d2",
   "metadata": {},
   "source": [
    "Izzy: Five to ten samples will be prepared to record the absorbance by UV-vis spectroscopy. These samples will include a reaction that the UV-vis spectrometer program being used will record the slope as absorbance over time. A table will be inputted with information such as the sample number, the amount of substrate added, and the slope.\n",
    "I have access to the program that will be used and connected to a UV-vis spectrometer. Also, "
   ]
  },
  {
   "cell_type": "code",
   "execution_count": 1,
   "id": "09fe6f76-d4f2-44a9-affd-6c262b6df3e6",
   "metadata": {},
   "outputs": [],
   "source": [
    "import pandas as pd"
   ]
  },
  {
   "cell_type": "markdown",
   "id": "2ecdb7dc-194e-4d45-bbe1-d38336b3c220",
   "metadata": {},
   "source": [
    "Alyssa:"
   ]
  },
  {
   "cell_type": "markdown",
   "id": "dacb366e-acab-4755-af8a-82e98065d820",
   "metadata": {},
   "source": [
    "Addie: "
   ]
  },
  {
   "cell_type": "markdown",
   "id": "411dabff-6cca-4ef7-a972-d7911844d955",
   "metadata": {},
   "source": [
    "Kimberlyn:"
   ]
  },
  {
   "cell_type": "code",
   "execution_count": null,
   "id": "73c60088-197f-4a21-91eb-5e186c9ad11f",
   "metadata": {},
   "outputs": [],
   "source": []
  }
 ],
 "metadata": {
  "kernelspec": {
   "display_name": "Python 3 (ipykernel)",
   "language": "python",
   "name": "python3"
  },
  "language_info": {
   "codemirror_mode": {
    "name": "ipython",
    "version": 3
   },
   "file_extension": ".py",
   "mimetype": "text/x-python",
   "name": "python",
   "nbconvert_exporter": "python",
   "pygments_lexer": "ipython3",
   "version": "3.12.8"
  }
 },
 "nbformat": 4,
 "nbformat_minor": 5
}
