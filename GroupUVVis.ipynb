{
 "cells": [
  {
   "cell_type": "markdown",
   "id": "02a0f883-9b1f-4c69-9992-5a0215c70714",
   "metadata": {},
   "source": [
    "# UV-Vis Data Collection Project"
   ]
  },
  {
   "cell_type": "markdown",
   "id": "0bca4c29-b710-4bba-bf6b-f0b71602fdd9",
   "metadata": {},
   "source": [
    "### Goals"
   ]
  },
  {
   "cell_type": "markdown",
   "id": "cac5bde6-146d-4dea-bfe6-034e5a1100d2",
   "metadata": {},
   "source": [
    "Izzy: Five samples will be prepared to record the absorbance by UV-vis spectroscopy. These samples will include a reaction that the UV-vis spectrometer program being used will record the slope as absorbance over time. A table will be inputted with information such as the sample number, the amount of substrate added, and the slope.\n",
    "I have access to the program that will be used and connected to a UV-vis spectrometer. "
   ]
  },
  {
   "cell_type": "code",
   "execution_count": 2,
   "id": "09fe6f76-d4f2-44a9-affd-6c262b6df3e6",
   "metadata": {},
   "outputs": [],
   "source": [
    "import pandas as pd"
   ]
  },
  {
   "cell_type": "markdown",
   "id": "c0f140d5-fccc-4bc9-8ea9-4de222e7d7d1",
   "metadata": {},
   "source": []
  },
  {
   "cell_type": "code",
   "execution_count": 3,
   "id": "b2eb1e78-9150-428e-965d-58df42bdb701",
   "metadata": {},
   "outputs": [
    {
     "name": "stdout",
     "output_type": "stream",
     "text": [
      "          Concentration     Slope     Slope.Err\n",
      "Reaction                                       \n",
      "1                  0.10 -0.000292  7.103950e-06\n",
      "2                  0.08 -0.000262  5.629424e-06\n",
      "3                  0.06 -0.000266  4.247431e-06\n",
      "4                  0.04 -0.000190  2.107726e-06\n",
      "5                  0.02 -0.000088  5.449833e-07\n"
     ]
    },
    {
     "name": "stderr",
     "output_type": "stream",
     "text": [
      "C:\\Users\\cson4\\AppData\\Local\\Temp\\ipykernel_12388\\1257987019.py:1: FutureWarning: The 'delim_whitespace' keyword in pd.read_csv is deprecated and will be removed in a future version. Use ``sep='\\s+'`` instead\n",
      "  uvvis = pd.read_csv(\"crystalviolet3\", delim_whitespace=False,\n",
      "C:\\Users\\cson4\\AppData\\Local\\Temp\\ipykernel_12388\\1257987019.py:1: UserWarning: Could not infer format, so each element will be parsed individually, falling back to `dateutil`. To ensure parsing is consistent and as-expected, please specify a format.\n",
      "  uvvis = pd.read_csv(\"crystalviolet3\", delim_whitespace=False,\n"
     ]
    }
   ],
   "source": [
    "uvvis = pd.read_csv(\"crystalviolet3\", delim_whitespace=False,\n",
    "                    index_col=0, parse_dates=True)\n",
    "print(uvvis)"
   ]
  },
  {
   "cell_type": "markdown",
   "id": "2ecdb7dc-194e-4d45-bbe1-d38336b3c220",
   "metadata": {},
   "source": [
    "Alyssa: I will be working with Izzy by helping to write code as she collects the UV-vis data on her laptop. I will likely use a \"read_csv\" code block so that the data can be imported and read in this document. This way, once I have displayed the data, it can then be analyzed and graphed by Addie and Kimberlyn."
   ]
  },
  {
   "cell_type": "markdown",
   "id": "dacb366e-acab-4755-af8a-82e98065d820",
   "metadata": {},
   "source": [
    "Addie: "
   ]
  },
  {
   "cell_type": "markdown",
   "id": "411dabff-6cca-4ef7-a972-d7911844d955",
   "metadata": {},
   "source": [
    "Kimberlyn: Once the analysis of the data is completed by Addie, I will take the data and display it in the form of a graph. This graph will most likely be a line graph or scatter plot, but depending on the parameters of the analysis and the nature of the data that we have, a differnt kind of graph may have to be utilized. The base blocks of the code used for the graphing is in the GraphingNotes document for more detail. "
   ]
  },
  {
   "cell_type": "code",
   "execution_count": null,
   "id": "73c60088-197f-4a21-91eb-5e186c9ad11f",
   "metadata": {},
   "outputs": [],
   "source": []
  }
 ],
 "metadata": {
  "kernelspec": {
   "display_name": "Python 3 (ipykernel)",
   "language": "python",
   "name": "python3"
  },
  "language_info": {
   "codemirror_mode": {
    "name": "ipython",
    "version": 3
   },
   "file_extension": ".py",
   "mimetype": "text/x-python",
   "name": "python",
   "nbconvert_exporter": "python",
   "pygments_lexer": "ipython3",
   "version": "3.12.8"
  }
 },
 "nbformat": 4,
 "nbformat_minor": 5
}
