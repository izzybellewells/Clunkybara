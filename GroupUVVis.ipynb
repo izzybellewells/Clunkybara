{
 "cells": [
  {
   "cell_type": "markdown",
   "id": "02a0f883-9b1f-4c69-9992-5a0215c70714",
   "metadata": {},
   "source": [
    "This will be the python notebook for the UV-vis project."
   ]
  },
  {
   "cell_type": "markdown",
   "id": "d0427bb4-1c84-4c97-bc77-63d691e129bd",
   "metadata": {},
   "source": [
    "This is a sample line."
   ]
  },
  {
   "cell_type": "markdown",
   "id": "7f3167da-7007-44a1-b657-35b03beeb1c9",
   "metadata": {},
   "source": [
    "Making a change. "
   ]
  },
  {
   "cell_type": "markdown",
   "id": "2850c4a3-92bd-4971-bf1a-6bc7d980e075",
   "metadata": {},
   "source": [
    "This is also a change, hopefully this works. :) "
   ]
  },
  {
   "cell_type": "code",
   "execution_count": null,
   "id": "ddf0bbad-66b9-4273-9659-bb2e6b03df01",
   "metadata": {},
   "outputs": [],
   "source": []
  },
  {
   "cell_type": "code",
   "execution_count": null,
   "id": "dc60155a-31ae-42b6-8efb-9319efc9e13b",
   "metadata": {},
   "outputs": [],
   "source": []
  },
  {
   "cell_type": "code",
   "execution_count": null,
   "id": "6871f7e1-c9c3-4e32-9fdf-7bd450cfc430",
   "metadata": {},
   "outputs": [],
   "source": []
  }
 ],
 "metadata": {
  "kernelspec": {
   "display_name": "Python 3 (ipykernel)",
   "language": "python",
   "name": "python3"
  },
  "language_info": {
   "codemirror_mode": {
    "name": "ipython",
    "version": 3
   },
   "file_extension": ".py",
   "mimetype": "text/x-python",
   "name": "python",
   "nbconvert_exporter": "python",
   "pygments_lexer": "ipython3",
   "version": "3.12.8"
  }
 },
 "nbformat": 4,
 "nbformat_minor": 5
}
