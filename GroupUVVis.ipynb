{
 "cells": [
  {
   "cell_type": "markdown",
   "id": "02a0f883-9b1f-4c69-9992-5a0215c70714",
   "metadata": {},
   "source": [
    "This will be the python notebook for the UV-vis project."
   ]
  },
  {
   "cell_type": "markdown",
   "id": "d0427bb4-1c84-4c97-bc77-63d691e129bd",
   "metadata": {},
   "source": [
    "This is a sample line."
   ]
  },
  {
   "cell_type": "markdown",
   "id": "7f3167da-7007-44a1-b657-35b03beeb1c9",
   "metadata": {},
   "source": [
    "Making a change. "
   ]
  },
  {
   "cell_type": "markdown",
   "id": "2850c4a3-92bd-4971-bf1a-6bc7d980e075",
   "metadata": {},
   "source": [
    "This is also a change, hopefully this works. :) "
   ]
  },
  {
   "cell_type": "markdown",
   "id": "9c2497a4-8877-4fe5-8168-add0d96d1de0",
   "metadata": {},
   "source": [
    "Test"
   ]
  }
 ],
 "metadata": {
  "kernelspec": {
   "display_name": "Python 3 (ipykernel)",
   "language": "python",
   "name": "python3"
  },
  "language_info": {
   "codemirror_mode": {
    "name": "ipython",
    "version": 3
   },
   "file_extension": ".py",
   "mimetype": "text/x-python",
   "name": "python",
   "nbconvert_exporter": "python",
   "pygments_lexer": "ipython3",
   "version": "3.12.8"
  }
 },
 "nbformat": 4,
 "nbformat_minor": 5
}
