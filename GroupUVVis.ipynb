{
 "cells": [
  {
   "cell_type": "markdown",
   "id": "02a0f883-9b1f-4c69-9992-5a0215c70714",
   "metadata": {},
   "source": [
    "# UV-Vis Data Collection Project"
   ]
  },
  {
   "cell_type": "code",
   "execution_count": 1,
   "id": "09fe6f76-d4f2-44a9-affd-6c262b6df3e6",
   "metadata": {},
   "outputs": [],
   "source": [
    "import pandas as pd"
   ]
  },
  {
   "cell_type": "markdown",
   "id": "c0f140d5-fccc-4bc9-8ea9-4de222e7d7d1",
   "metadata": {},
   "source": [
    "Below a table will be constructed containing the UV-vis data from a crystal violet experiment. There will be five reactions with varying concentrations of NaOH in M. The slope represents the absorbance over time, as the violet color from crystal violet fades over time as the reaction proceeds."
   ]
  },
  {
   "cell_type": "code",
   "execution_count": 2,
   "id": "b2eb1e78-9150-428e-965d-58df42bdb701",
   "metadata": {},
   "outputs": [
    {
     "name": "stdout",
     "output_type": "stream",
     "text": [
      "     Reaction  hydroxide        Time      Abs\n",
      "0         1.0       0.10    0.312425  0.04874\n",
      "1         1.0       0.10    1.546510  0.04840\n",
      "2         1.0       0.10    2.796216  0.04744\n",
      "3         1.0       0.10    4.030302  0.04664\n",
      "4         1.0       0.10    5.280008  0.04594\n",
      "..        ...        ...         ...      ...\n",
      "944       5.0       0.02  355.288854  0.04349\n",
      "945       5.0       0.02  356.522939  0.04339\n",
      "946       5.0       0.02  357.757023  0.04329\n",
      "947       5.0       0.02  358.991108  0.04329\n",
      "948       5.0       0.02  360.225193  0.04310\n",
      "\n",
      "[949 rows x 4 columns]\n"
     ]
    },
    {
     "name": "stderr",
     "output_type": "stream",
     "text": [
      "/var/folders/lg/pxhq72654cv7w99d71t8t13r0000gn/T/ipykernel_99555/944261660.py:1: FutureWarning: The 'delim_whitespace' keyword in pd.read_csv is deprecated and will be removed in a future version. Use ``sep='\\s+'`` instead\n",
      "  uvvis = pd.read_csv(\"crystalvioletformatted\", delim_whitespace=False,\n"
     ]
    }
   ],
   "source": [
    "uvvis = pd.read_csv(\"crystalvioletformatted\", delim_whitespace=False,\n",
    "                    usecols=['Reaction','hydroxide','Time','Abs'], parse_dates=True)\n",
    "print(uvvis)"
   ]
  },
  {
   "cell_type": "markdown",
   "id": "e6dfcc3f-1c19-4473-954a-07725944b730",
   "metadata": {},
   "source": [
    "The concentration of crystal violet in Molar was calculated using Beer's Law and added to the table under the column \"cv\"."
   ]
  },
  {
   "cell_type": "code",
   "execution_count": 3,
   "id": "2183c3b8-292d-4fee-9527-645e88a6b0df",
   "metadata": {},
   "outputs": [
    {
     "name": "stdout",
     "output_type": "stream",
     "text": [
      "     Reaction  hydroxide        Time      Abs            cv\n",
      "0         1.0       0.10    0.312425  0.04874  5.602299e-07\n",
      "1         1.0       0.10    1.546510  0.04840  5.563218e-07\n",
      "2         1.0       0.10    2.796216  0.04744  5.452874e-07\n",
      "3         1.0       0.10    4.030302  0.04664  5.360920e-07\n",
      "4         1.0       0.10    5.280008  0.04594  5.280460e-07\n",
      "..        ...        ...         ...      ...           ...\n",
      "944       5.0       0.02  355.288854  0.04349  4.998851e-07\n",
      "945       5.0       0.02  356.522939  0.04339  4.987356e-07\n",
      "946       5.0       0.02  357.757023  0.04329  4.975862e-07\n",
      "947       5.0       0.02  358.991108  0.04329  4.975862e-07\n",
      "948       5.0       0.02  360.225193  0.04310  4.954023e-07\n",
      "\n",
      "[949 rows x 5 columns]\n"
     ]
    }
   ],
   "source": [
    "uvvis[\"cv\"]=uvvis[\"Abs\"]/87000\n",
    "print(uvvis)\n"
   ]
  },
  {
   "cell_type": "markdown",
   "id": "8b58858c-803c-4d9f-bb06-e9b96ba6fb9f",
   "metadata": {},
   "source": [
    "## Curve Fitting "
   ]
  },
  {
   "cell_type": "code",
   "execution_count": 4,
   "id": "3b7e076b-a5ef-4dea-aac5-7b129d47ef13",
   "metadata": {},
   "outputs": [],
   "source": [
    "import numpy as numpy"
   ]
  },
  {
   "cell_type": "markdown",
   "id": "a4da17e1-1878-40d1-8ae8-399fe978125e",
   "metadata": {},
   "source": [
    "This imports a collection of functions know as numpy, and I named it as numpy as well to keep track of it."
   ]
  },
  {
   "cell_type": "code",
   "execution_count": 5,
   "id": "e4823f3f-6bfb-4f77-ad62-21094e7ba955",
   "metadata": {},
   "outputs": [],
   "source": [
    "from scipy.optimize import curve_fit"
   ]
  },
  {
   "cell_type": "markdown",
   "id": "31c538a4-8840-4661-9579-3d50f52ff1ac",
   "metadata": {},
   "source": [
    "This imports the curve fit function from the SciPy reference manual. This specific function was found under the scipy.optimize section which includes methods of solving nonlinear data sets, though I am also using it for a linear set for the sake of consistency."
   ]
  },
  {
   "cell_type": "code",
   "execution_count": 6,
   "id": "00c74147-81a1-4398-8617-fc77069746a1",
   "metadata": {},
   "outputs": [],
   "source": [
    "def first(x, a, b):\n",
    "    return a * numpy.exp(-b * x)"
   ]
  },
  {
   "cell_type": "markdown",
   "id": "e77565b0-c29b-4541-8706-560ffde4e018",
   "metadata": {},
   "source": [
    "This code defines a function that I have titled \"first\" and it will be used to fit the data to a first-order, exponential line. The parameter \"a\" is the initial concentration, \"b\" is the rate constant k, and \"x\" is the time. Follows the equation: [A]=[A0]e^(-kt)"
   ]
  },
  {
   "cell_type": "code",
   "execution_count": 7,
   "id": "5f181670-aeeb-42cf-bab7-e56c8fbde365",
   "metadata": {},
   "outputs": [],
   "source": [
    "def zero(x, a, b):\n",
    "    return -a * x + b"
   ]
  },
  {
   "cell_type": "markdown",
   "id": "56dabfe7-f38e-437b-a127-1a4213861858",
   "metadata": {},
   "source": [
    "This code defines a function that I have titled \"zero\" and it will be used to fit the data to a zero-order, linear line. The parameter \"a\" is the rate constant k, \"b\" is the initial concentration, and \"x\" is the time. Follows the equation: [A]=-kt+[A0]"
   ]
  },
  {
   "cell_type": "code",
   "execution_count": 8,
   "id": "6631719f-6a94-40a1-94aa-0e59e3ab600d",
   "metadata": {},
   "outputs": [],
   "source": [
    "def second(x, a, b):\n",
    "    return (a) / (a * b * x + 1)"
   ]
  },
  {
   "cell_type": "markdown",
   "id": "13259061-a8cc-4a8d-a3d6-403dfacd4057",
   "metadata": {},
   "source": [
    "This code defines a function that I have titled \"second\" and it will be used to fit the data to a second-order line. The parameter \"a\" is the initial concentration, \"b\" is the rate constant k, and \"x\" is time. Follows the equation: [A]=[A0]/([A0]kt+1)"
   ]
  },
  {
   "cell_type": "markdown",
   "id": "40d7164c-e70f-43f1-a047-704252c97e80",
   "metadata": {},
   "source": [
    "##### Reaction 1"
   ]
  },
  {
   "cell_type": "markdown",
   "id": "4d47ef3b-0c32-4fd7-9610-8d7c6f742376",
   "metadata": {},
   "source": [
    "The following code blocks define the x and y variables for the data points collected in Reaction 1. X is defined as the time values, while y is defined as the crystal violet concentration values."
   ]
  },
  {
   "cell_type": "code",
   "execution_count": 9,
   "id": "fa91c7d6-8261-4f3a-844c-06a6e3a5d8fa",
   "metadata": {},
   "outputs": [],
   "source": [
    "xdata1 = uvvis.loc[uvvis[\"Reaction\"]==1,\"Time\"]"
   ]
  },
  {
   "cell_type": "code",
   "execution_count": 10,
   "id": "0e7e1107-ba2d-441b-8993-31ae0920f5f2",
   "metadata": {},
   "outputs": [],
   "source": [
    "ydata1 = uvvis.loc[uvvis[\"Reaction\"]==1,\"cv\"]"
   ]
  },
  {
   "cell_type": "markdown",
   "id": "6fd7ad20-c7de-4850-993f-48303cdc185b",
   "metadata": {},
   "source": [
    "The code block below fits the assigned variables to the zero order function as defined above using the curve fit function. This function's output is the optimized parameters, a and b. \"popt10\" refers to the optimized parameters for reaction 1 fitted to zero order."
   ]
  },
  {
   "cell_type": "code",
   "execution_count": 11,
   "id": "41878fe6-7262-49d1-9b62-f5fa3c32ae7e",
   "metadata": {},
   "outputs": [
    {
     "data": {
      "text/plain": [
       "array([3.20547042e-09, 5.05761593e-07])"
      ]
     },
     "execution_count": 11,
     "metadata": {},
     "output_type": "execute_result"
    }
   ],
   "source": [
    "popt10, pcov10 = curve_fit(zero, xdata1, ydata1)\n",
    "popt10"
   ]
  },
  {
   "cell_type": "markdown",
   "id": "73b5efe6-a35e-4a64-934d-d2b241e288cf",
   "metadata": {},
   "source": [
    "The code block below fits the assigned variables to the first order function defined above and the optimized parameters are given. \"popt11\" refers to the optimized parameters of reaction 1 fitted to first order."
   ]
  },
  {
   "cell_type": "code",
   "execution_count": 12,
   "id": "30481655-0403-4a45-bf6f-9f3d450a9b96",
   "metadata": {},
   "outputs": [
    {
     "data": {
      "text/plain": [
       "array([5.52821793e-07, 1.06013483e-02])"
      ]
     },
     "execution_count": 12,
     "metadata": {},
     "output_type": "execute_result"
    }
   ],
   "source": [
    "popt11, pcov11 = curve_fit(first, xdata1, ydata1)\n",
    "popt11"
   ]
  },
  {
   "cell_type": "markdown",
   "id": "2436881d-30f8-46af-9ef7-9bdf76af5bd5",
   "metadata": {},
   "source": [
    "The code block below fits the assigned variables to the second order function defined above and the optimized parameters are given. \"popt12\" refers to the optimized parameters of reaction 1 fitted to the second order."
   ]
  },
  {
   "cell_type": "code",
   "execution_count": 13,
   "id": "056919fb-8219-4672-9780-a2ee86fc40a4",
   "metadata": {},
   "outputs": [
    {
     "data": {
      "text/plain": [
       "array([5.94409730e-07, 3.09059033e+04])"
      ]
     },
     "execution_count": 13,
     "metadata": {},
     "output_type": "execute_result"
    }
   ],
   "source": [
    "popt12, pcov12 = curve_fit(second, xdata1, ydata1)\n",
    "popt12"
   ]
  },
  {
   "cell_type": "markdown",
   "id": "b12fa31a-9fde-48b2-9de3-63d06d40f037",
   "metadata": {},
   "source": [
    "##### Reaction 2"
   ]
  },
  {
   "cell_type": "markdown",
   "id": "6e5e9d25-bbf6-4b96-ab80-c23e5468148b",
   "metadata": {},
   "source": [
    "The following code blocks define the x and y variables for reaction 2. The curve fit function is then used to fit the data to the first order function, as determined by the AIC values, and the output is the optimized parameters for reaction 2. This same process is then repeated for reactions 3-5 with the variables being newly defined for each reaction."
   ]
  },
  {
   "cell_type": "code",
   "execution_count": 14,
   "id": "de9b6148-d927-4690-8f01-3072d74f18e9",
   "metadata": {},
   "outputs": [
    {
     "data": {
      "text/plain": [
       "array([6.55735903e-07, 7.72033449e-03])"
      ]
     },
     "execution_count": 14,
     "metadata": {},
     "output_type": "execute_result"
    }
   ],
   "source": [
    "xdata2 = uvvis.loc[uvvis[\"Reaction\"]==2,\"Time\"]\n",
    "ydata2 = uvvis.loc[uvvis[\"Reaction\"]==2,\"cv\"]\n",
    "popt2, pcov2 = curve_fit(first, xdata2, ydata2)\n",
    "popt2"
   ]
  },
  {
   "cell_type": "markdown",
   "id": "9f3c354a-0ca4-4041-b450-afbbc345ba8a",
   "metadata": {},
   "source": [
    "##### Reaction 3"
   ]
  },
  {
   "cell_type": "code",
   "execution_count": 15,
   "id": "0b7e4523-7d5e-4b3f-9803-e07d1d9171f9",
   "metadata": {},
   "outputs": [
    {
     "data": {
      "text/plain": [
       "array([6.96100746e-07, 6.47822202e-03])"
      ]
     },
     "execution_count": 15,
     "metadata": {},
     "output_type": "execute_result"
    }
   ],
   "source": [
    "xdata3 = uvvis.loc[uvvis[\"Reaction\"]==3,\"Time\"]\n",
    "ydata3 = uvvis.loc[uvvis[\"Reaction\"]==3,\"cv\"]\n",
    "popt3, pcov3 = curve_fit(first, xdata3, ydata3)\n",
    "popt3"
   ]
  },
  {
   "cell_type": "markdown",
   "id": "51545f3a-54b6-44d1-b1b8-29646c88a3c0",
   "metadata": {},
   "source": [
    "##### Reaction 4"
   ]
  },
  {
   "cell_type": "code",
   "execution_count": 16,
   "id": "65bf3001-484a-4c62-927c-dd9d8440c778",
   "metadata": {},
   "outputs": [
    {
     "name": "stderr",
     "output_type": "stream",
     "text": [
      "/opt/miniconda3/envs/python/lib/python3.12/site-packages/pandas/core/arraylike.py:399: RuntimeWarning: overflow encountered in exp\n",
      "  result = getattr(ufunc, method)(*inputs, **kwargs)\n"
     ]
    },
    {
     "data": {
      "text/plain": [
       "array([7.08420748e-07, 4.62735792e-03])"
      ]
     },
     "execution_count": 16,
     "metadata": {},
     "output_type": "execute_result"
    }
   ],
   "source": [
    "xdata4 = uvvis.loc[uvvis[\"Reaction\"]==4,\"Time\"]\n",
    "ydata4 = uvvis.loc[uvvis[\"Reaction\"]==4,\"cv\"]\n",
    "popt4, pcov4 = curve_fit(first, xdata4, ydata4)\n",
    "popt4"
   ]
  },
  {
   "cell_type": "markdown",
   "id": "faa3c115-8727-43b7-b0cb-aa4832e59570",
   "metadata": {},
   "source": [
    "##### Reaction 5"
   ]
  },
  {
   "cell_type": "code",
   "execution_count": 17,
   "id": "0239d17a-dd69-45b9-8d08-fa6469362fc4",
   "metadata": {},
   "outputs": [
    {
     "data": {
      "text/plain": [
       "array([7.96898717e-07, 1.32453931e-03])"
      ]
     },
     "execution_count": 17,
     "metadata": {},
     "output_type": "execute_result"
    }
   ],
   "source": [
    "xdata5 = uvvis.loc[uvvis[\"Reaction\"]==5,\"Time\"]\n",
    "ydata5 = uvvis.loc[uvvis[\"Reaction\"]==5,\"cv\"]\n",
    "popt5, pcov5 = curve_fit(first, xdata5, ydata5)\n",
    "popt5"
   ]
  },
  {
   "cell_type": "markdown",
   "id": "e342045d-ec76-4699-afb4-6e1aec919655",
   "metadata": {},
   "source": [
    "## Finding the AIC Value"
   ]
  },
  {
   "cell_type": "markdown",
   "id": "788529bb-b017-4b4a-99d8-7dfe75a927ce",
   "metadata": {},
   "source": [
    "The AIC, or Akaike Information Criterion, is a tool used to test the goodness of fit for different models. A lower score indicates that the fit is better. The goal is to determine which reaction order best fits the data. The following code block helps assign an Akaike value to each order (shout out to Dr. Marsh). "
   ]
  },
  {
   "cell_type": "code",
   "execution_count": 18,
   "id": "33930704-1121-4c49-9dcd-e9ec37882773",
   "metadata": {
    "scrolled": true
   },
   "outputs": [
    {
     "name": "stderr",
     "output_type": "stream",
     "text": [
      "/var/folders/lg/pxhq72654cv7w99d71t8t13r0000gn/T/ipykernel_99555/2448715115.py:1: FutureWarning: The 'delim_whitespace' keyword in pd.read_csv is deprecated and will be removed in a future version. Use ``sep='\\s+'`` instead\n",
      "  df = pd.read_csv(\"crystalvioletformatted\", delim_whitespace=False)\n"
     ]
    }
   ],
   "source": [
    "df = pd.read_csv(\"crystalvioletformatted\", delim_whitespace=False)\n",
    "df['cv'] = df.Abs / 87000"
   ]
  },
  {
   "cell_type": "code",
   "execution_count": 19,
   "id": "8f781ada-9c93-4a29-b942-bef2a491026f",
   "metadata": {},
   "outputs": [],
   "source": [
    "def zero(x, a, b):\n",
    "    return -a * x + b\n",
    "\n",
    "def first(x, a, b):\n",
    "    return a * numpy.exp(-b * x)\n",
    "\n",
    "def second(x, a, b):\n",
    "    return (a) / (a * b * x + 1)\n",
    "\n",
    "def getAIC(x, y, model, params):\n",
    "    #get predictions using the fitted parameters\n",
    "    y_pred = model(x, *params)\n",
    "\n",
    "    #residual sum of squares\n",
    "    rss = numpy.sum ((y-y_pred) ** 2)\n",
    "\n",
    "    #number of data points\n",
    "    n = len(y)\n",
    "\n",
    "    #of parameters estimated (k)\n",
    "    k = len(params) # a and b => k = 2\n",
    "\n",
    "    #log-likelihood under assumption of Gaussian errors\n",
    "    log_likelihood = -0.5 * n * (numpy.log(2 * numpy.pi *rss / n) + 1)\n",
    "\n",
    "    #AIC formula\n",
    "    return 2 * k -2 * log_likelihood"
   ]
  },
  {
   "cell_type": "markdown",
   "id": "497b2832-acac-43fc-be9b-7c632e1349c5",
   "metadata": {},
   "source": [
    "The purpose of the following code is to obtain the AIC number and to visualize what the different orders look like versus the actual obtained data. I also have to define the data because the variables will not be defined in the plot otherwise."
   ]
  },
  {
   "cell_type": "markdown",
   "id": "99148741-afda-4cce-8d4a-5b6562ac8134",
   "metadata": {},
   "source": [
    "The code below defines the functions so that the AIC can be found."
   ]
  },
  {
   "cell_type": "code",
   "execution_count": 20,
   "id": "2d7d72c7-7ee6-48de-8e5b-2d48ca7db13f",
   "metadata": {},
   "outputs": [],
   "source": [
    "X = df[df[\"Reaction\"] == 1].Time\n",
    "y = df[df[\"Reaction\"] == 1].cv"
   ]
  },
  {
   "cell_type": "code",
   "execution_count": 21,
   "id": "675e9dbd-d795-4d00-8f9d-cc791da18f6d",
   "metadata": {},
   "outputs": [
    {
     "name": "stdout",
     "output_type": "stream",
     "text": [
      "Zero AIC:  -3014.2540603401208\n"
     ]
    }
   ],
   "source": [
    "params, cov = curve_fit(zero, X, y)\n",
    "AIC0 = getAIC(X, y, zero, params)\n",
    "print (\"Zero AIC: \", AIC0)"
   ]
  },
  {
   "cell_type": "code",
   "execution_count": 22,
   "id": "544ee9ea-cb50-4691-bed0-978d900a8964",
   "metadata": {},
   "outputs": [
    {
     "name": "stdout",
     "output_type": "stream",
     "text": [
      "First AIC:  -3251.2031688015836\n"
     ]
    }
   ],
   "source": [
    "params, cove = curve_fit(first, X, y)\n",
    "AIC1 = getAIC(X, y, first, params)\n",
    "print (\"First AIC: \",AIC1)"
   ]
  },
  {
   "cell_type": "code",
   "execution_count": 23,
   "id": "162c5f6a-2f13-4b6a-ae7a-325ab754a112",
   "metadata": {},
   "outputs": [
    {
     "name": "stdout",
     "output_type": "stream",
     "text": [
      "Second AIC:  -3083.2681617967705\n"
     ]
    }
   ],
   "source": [
    "params, cove = curve_fit(second, X, y)\n",
    "AIC2 = getAIC(X, y, second, params)\n",
    "print (\"Second AIC: \",AIC2)"
   ]
  },
  {
   "cell_type": "markdown",
   "id": "3729910a-ce3a-4965-99d4-67a8b6e4670b",
   "metadata": {},
   "source": [
    "The best fit with the data is the first-order reaction because it has the lowest AIC at -3251.20, whereas the other two reactions are about 200 more units!! The one we will choose to go with is the first-order reaction."
   ]
  },
  {
   "cell_type": "markdown",
   "id": "4d20d25c-fd9e-4c8c-ab82-077c05dfd028",
   "metadata": {},
   "source": [
    "## Graphing"
   ]
  },
  {
   "cell_type": "code",
   "execution_count": 25,
   "id": "5c30ded0-1447-464f-9fc7-c3aa7bd9bc54",
   "metadata": {},
   "outputs": [],
   "source": [
    "import matplotlib.pyplot as plt"
   ]
  },
  {
   "cell_type": "code",
   "execution_count": 33,
   "id": "91f8f143-cfbf-4d65-b166-606e7ba7a921",
   "metadata": {},
   "outputs": [
    {
     "data": {
      "text/plain": [
       "Text(0.5, 1.0, 'Reaction1')"
      ]
     },
     "execution_count": 33,
     "metadata": {},
     "output_type": "execute_result"
    },
    {
     "data": {
      "image/png": "[encoded data removed]",
      "text/plain": [
       "<Figure size 640x480 with 1 Axes>"
      ]
     },
     "metadata": {},
     "output_type": "display_data"
    }
   ],
   "source": [
    "plt.plot(xdata1, ydata1, label='reaction1')\n",
    "plt.xlabel('Time')\n",
    "plt.ylabel('[CV]')\n",
    "plt.title('Reaction1')"
   ]
  },
  {
   "cell_type": "code",
   "execution_count": 34,
   "id": "588cf063-4a44-4982-9bc3-9dd5c818364a",
   "metadata": {},
   "outputs": [
    {
     "data": {
      "text/plain": [
       "Text(0.5, 1.0, 'Reaction2')"
      ]
     },
     "execution_count": 34,
     "metadata": {},
     "output_type": "execute_result"
    },
    {
     "data": {
      "image/png": "[encoded data removed]",
      "text/plain": [
       "<Figure size 640x480 with 1 Axes>"
      ]
     },
     "metadata": {},
     "output_type": "display_data"
    }
   ],
   "source": [
    "plt.plot(xdata2, ydata2, label='reaction2')\n",
    "plt.xlabel('Time')\n",
    "plt.ylabel('[CV]')\n",
    "plt.title('Reaction2')"
   ]
  },
  {
   "cell_type": "code",
   "execution_count": 35,
   "id": "b0f2133f-c555-48f7-9e47-d17ff45df51a",
   "metadata": {},
   "outputs": [
    {
     "data": {
      "text/plain": [
       "Text(0.5, 1.0, 'Reaction3')"
      ]
     },
     "execution_count": 35,
     "metadata": {},
     "output_type": "execute_result"
    },
    {
     "data": {
      "image/png": "[encoded data removed]",
      "text/plain": [
       "<Figure size 640x480 with 1 Axes>"
      ]
     },
     "metadata": {},
     "output_type": "display_data"
    }
   ],
   "source": [
    "plt.plot(xdata3, ydata3, label='reaction3')\n",
    "plt.xlabel('Time')\n",
    "plt.ylabel('[CV]')\n",
    "plt.title('Reaction3')"
   ]
  },
  {
   "cell_type": "code",
   "execution_count": 36,
   "id": "535132da-da43-4bdf-b186-4400feeb2c8a",
   "metadata": {},
   "outputs": [
    {
     "data": {
      "text/plain": [
       "Text(0.5, 1.0, 'Reaction4')"
      ]
     },
     "execution_count": 36,
     "metadata": {},
     "output_type": "execute_result"
    },
    {
     "data": {
      "image/png": "[encoded data removed]",
      "text/plain": [
       "<Figure size 640x480 with 1 Axes>"
      ]
     },
     "metadata": {},
     "output_type": "display_data"
    }
   ],
   "source": [
    "plt.plot(xdata4, ydata4, label='reaction4')\n",
    "plt.xlabel('Time')\n",
    "plt.ylabel('[CV]')\n",
    "plt.title('Reaction4')"
   ]
  },
  {
   "cell_type": "code",
   "execution_count": 37,
   "id": "76768f37-f002-49cd-9143-2a0aec5135c5",
   "metadata": {},
   "outputs": [
    {
     "data": {
      "text/plain": [
       "Text(0.5, 1.0, 'Reaction5')"
      ]
     },
     "execution_count": 37,
     "metadata": {},
     "output_type": "execute_result"
    },
    {
     "data": {
      "image/png": "[encoded data removed]",
      "text/plain": [
       "<Figure size 640x480 with 1 Axes>"
      ]
     },
     "metadata": {},
     "output_type": "display_data"
    }
   ],
   "source": [
    "plt.plot(xdata5, ydata5, label='reaction5')\n",
    "plt.xlabel('Time')\n",
    "plt.ylabel('[CV]')\n",
    "plt.title('Reaction5')"
   ]
  },
  {
   "cell_type": "code",
   "execution_count": null,
   "id": "935caf64-5351-4b75-8466-688d6330a5ab",
   "metadata": {},
   "outputs": [],
   "source": []
  }
 ],
 "metadata": {
  "kernelspec": {
   "display_name": "Python 3 (ipykernel)",
   "language": "python",
   "name": "python3"
  },
  "language_info": {
   "codemirror_mode": {
    "name": "ipython",
    "version": 3
   },
   "file_extension": ".py",
   "mimetype": "text/x-python",
   "name": "python",
   "nbconvert_exporter": "python",
   "pygments_lexer": "ipython3",
   "version": "3.12.8"
  }
 },
 "nbformat": 4,
 "nbformat_minor": 5
}
