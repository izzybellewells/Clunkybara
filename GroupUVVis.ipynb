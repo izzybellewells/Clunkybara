{
 "cells": [
  {
   "cell_type": "markdown",
   "id": "02a0f883-9b1f-4c69-9992-5a0215c70714",
   "metadata": {},
   "source": [
    "# UV-Vis Data Collection Project"
   ]
  },
  {
   "cell_type": "markdown",
   "id": "0bca4c29-b710-4bba-bf6b-f0b71602fdd9",
   "metadata": {},
   "source": [
    "### Goals"
   ]
  },
  {
   "cell_type": "markdown",
   "id": "cac5bde6-146d-4dea-bfe6-034e5a1100d2",
   "metadata": {},
   "source": [
    "Izzy: Five to ten samples will be prepared to record the absorbance by UV-vis spectroscopy. These samples will include a reaction that the UV-vis spectrometer program being used will record the slope as absorbance over time. A table will be inputted with information such as the sample number, the amount of substrate added, and the slope.\n",
    "I have access to the program that will be used and connected to a UV-vis spectrometer. Also, "
   ]
  },
  {
   "cell_type": "code",
   "execution_count": 1,
   "id": "09fe6f76-d4f2-44a9-affd-6c262b6df3e6",
   "metadata": {},
   "outputs": [],
   "source": [
    "import pandas as pd"
   ]
  },
  {
   "cell_type": "markdown",
   "id": "2ecdb7dc-194e-4d45-bbe1-d38336b3c220",
   "metadata": {},
   "source": [
    "Alyssa: I will be working with Izzy by helping to write code as she collects the UV-vis data on her laptop. I will likely use a \"read_csv\" code block so that the data can be imported and read in this document. This way, once I have displayed the data, it can then be analyzed and graphed by Addie and Kimberlyn."
   ]
  },
  {
   "cell_type": "markdown",
   "id": "dacb366e-acab-4755-af8a-82e98065d820",
   "metadata": {},
   "source": [
    "Addie: Once Alyssa and Izzy collect the data, I will write the code to analyze the data. I will probably use a t-test to compare the substrate and slope data. I think I might also use an ANOVA to compare all the data values. This way, once I have the statistical analysis, I will be able to interpret the data. Also, the statistical analysis will help to interpret Kimberlyn's graphs!!"
   ]
  },
  {
   "cell_type": "code",
   "execution_count": null,
   "id": "1d107e4a-c1be-4de9-8d55-e82d68c2d105",
   "metadata": {},
   "outputs": [],
   "source": []
  },
  {
   "cell_type": "markdown",
   "id": "411dabff-6cca-4ef7-a972-d7911844d955",
   "metadata": {},
   "source": [
    "Kimberlyn: Once the analysis of the data is completed by Addie, I will take the data and display it in the form of a graph. This graph will most likely be a line graph or scatter plot, but depending on the parameters of the analysis and the nature of the data that we have, a differnt kind of graph may have to be utilized. The base blocks of the code used for the graphing is in the GraphingNotes document for more detail. "
   ]
  },
  {
   "cell_type": "code",
   "execution_count": null,
   "id": "73c60088-197f-4a21-91eb-5e186c9ad11f",
   "metadata": {},
   "outputs": [],
   "source": []
  }
 ],
 "metadata": {
  "kernelspec": {
   "display_name": "Python 3 (ipykernel)",
   "language": "python",
   "name": "python3"
  },
  "language_info": {
   "codemirror_mode": {
    "name": "ipython",
    "version": 3
   },
   "file_extension": ".py",
   "mimetype": "text/x-python",
   "name": "python",
   "nbconvert_exporter": "python",
   "pygments_lexer": "ipython3",
   "version": "3.12.8"
  }
 },
 "nbformat": 4,
 "nbformat_minor": 5
}
