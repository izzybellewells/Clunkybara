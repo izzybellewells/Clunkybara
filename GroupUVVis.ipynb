{
 "cells": [
  {
   "cell_type": "markdown",
   "id": "02a0f883-9b1f-4c69-9992-5a0215c70714",
   "metadata": {},
   "source": [
    "# UV-Vis Data Collection Project"
   ]
  },
  {
   "cell_type": "code",
   "execution_count": 2,
   "id": "09fe6f76-d4f2-44a9-affd-6c262b6df3e6",
   "metadata": {},
   "outputs": [],
   "source": [
    "import pandas as pd"
   ]
  },
  {
   "cell_type": "markdown",
   "id": "c0f140d5-fccc-4bc9-8ea9-4de222e7d7d1",
   "metadata": {},
   "source": [
    "Below a table will be constructed containing the UV-vis data from a crystal violet experiment. There will be five reactions with varying concentrations of NaOH in M. The slope represents the absorbance over time, as the violet color from crystal violet fades over time as the reaction proceeds."
   ]
  },
  {
   "cell_type": "code",
   "execution_count": 4,
   "id": "b2eb1e78-9150-428e-965d-58df42bdb701",
   "metadata": {},
   "outputs": [
    {
     "name": "stdout",
     "output_type": "stream",
     "text": [
      "     Reaction  hydroxide        Time      Abs\n",
      "0         1.0       0.10    0.312425  0.04874\n",
      "1         1.0       0.10    1.546510  0.04840\n",
      "2         1.0       0.10    2.796216  0.04744\n",
      "3         1.0       0.10    4.030302  0.04664\n",
      "4         1.0       0.10    5.280008  0.04594\n",
      "..        ...        ...         ...      ...\n",
      "944       5.0       0.02  355.288854  0.04349\n",
      "945       5.0       0.02  356.522939  0.04339\n",
      "946       5.0       0.02  357.757023  0.04329\n",
      "947       5.0       0.02  358.991108  0.04329\n",
      "948       5.0       0.02  360.225193  0.04310\n",
      "\n",
      "[949 rows x 4 columns]\n"
     ]
    },
    {
     "name": "stderr",
     "output_type": "stream",
     "text": [
      "C:\\Users\\cson4\\AppData\\Local\\Temp\\ipykernel_11992\\944261660.py:1: FutureWarning: The 'delim_whitespace' keyword in pd.read_csv is deprecated and will be removed in a future version. Use ``sep='\\s+'`` instead\n",
      "  uvvis = pd.read_csv(\"crystalvioletformatted\", delim_whitespace=False,\n"
     ]
    }
   ],
   "source": [
    "uvvis = pd.read_csv(\"crystalvioletformatted\", delim_whitespace=False,\n",
    "                    usecols=['Reaction','hydroxide','Time','Abs'], parse_dates=True)\n",
    "print(uvvis)"
   ]
  },
  {
   "cell_type": "code",
   "execution_count": null,
   "id": "2183c3b8-292d-4fee-9527-645e88a6b0df",
   "metadata": {},
   "outputs": [],
   "source": [
    "cvconc=pd.read_csv(\"crystalvioletformatted\",Abs"
   ]
  },
  {
   "cell_type": "markdown",
   "id": "8b58858c-803c-4d9f-bb06-e9b96ba6fb9f",
   "metadata": {},
   "source": [
    "## Curve Fitting "
   ]
  },
  {
   "cell_type": "code",
   "execution_count": 2,
   "id": "3b7e076b-a5ef-4dea-aac5-7b129d47ef13",
   "metadata": {},
   "outputs": [],
   "source": [
    "import numpy as numpy"
   ]
  },
  {
   "cell_type": "markdown",
   "id": "a4da17e1-1878-40d1-8ae8-399fe978125e",
   "metadata": {},
   "source": [
    "This imports a collection of functions know as numpy, and I named it as numpy as well to keep track of it."
   ]
  },
  {
   "cell_type": "code",
   "execution_count": 4,
   "id": "e4823f3f-6bfb-4f77-ad62-21094e7ba955",
   "metadata": {},
   "outputs": [],
   "source": [
    "from scipy.optimize import curve_fit"
   ]
  },
  {
   "cell_type": "markdown",
   "id": "31c538a4-8840-4661-9579-3d50f52ff1ac",
   "metadata": {},
   "source": [
    "This imports the curve fit function from the SciPy reference manual. This specific function was found under the scipy.optimize section which includes methods of solving nonlinear data sets, though I am also using it for a linear set for the sake of consistency. "
   ]
  },
  {
   "cell_type": "code",
   "execution_count": 6,
   "id": "00c74147-81a1-4398-8617-fc77069746a1",
   "metadata": {},
   "outputs": [],
   "source": [
    "def first(x, a, b):\n",
    "    return a * np.exp(-b * x)"
   ]
  },
  {
   "cell_type": "markdown",
   "id": "e77565b0-c29b-4541-8706-560ffde4e018",
   "metadata": {},
   "source": [
    "This code defines a function that I have titled \"first\" and it will be used to fit the data to a first-order, exponential line. The parameter \"a\" is the initial concentration, \"b\" is the rate constant k, and \"x\" is the time."
   ]
  },
  {
   "cell_type": "code",
   "execution_count": 9,
   "id": "5f181670-aeeb-42cf-bab7-e56c8fbde365",
   "metadata": {},
   "outputs": [],
   "source": [
    "def zero(x, a, b):\n",
    "    return -a * x + b"
   ]
  },
  {
   "cell_type": "markdown",
   "id": "56dabfe7-f38e-437b-a127-1a4213861858",
   "metadata": {},
   "source": [
    "This code defines a function that I have titled \"zero\" and it will be used to fit the data to a zero-order, linear line. The parameter \"a\" is the rate constant k, \"b\" is the initial concentration, and \"x\" is the time."
   ]
  },
  {
   "cell_type": "code",
   "execution_count": 8,
   "id": "6631719f-6a94-40a1-94aa-0e59e3ab600d",
   "metadata": {},
   "outputs": [],
   "source": [
    "def second(x, a, b):\n",
    "    return (a) / (a * b * x + 1)"
   ]
  },
  {
   "cell_type": "markdown",
   "id": "13259061-a8cc-4a8d-a3d6-403dfacd4057",
   "metadata": {},
   "source": [
    "This code defines a function that I have titled \"second\" and it will be used to fit the data to a second-order line. The parameter \"a\" is the initial concentration, \"b\" is the rate constant k, and \"x\" is time."
   ]
  },
  {
   "cell_type": "markdown",
   "id": "e342045d-ec76-4699-afb4-6e1aec919655",
   "metadata": {},
   "source": [
    "FINDING THE AIC VALUE"
   ]
  },
  {
   "cell_type": "code",
   "execution_count": null,
   "id": "5f016a2f-3959-4c17-9007-b0383329a59e",
   "metadata": {},
   "outputs": [],
   "source": []
  }
 ],
 "metadata": {
  "kernelspec": {
   "display_name": "Python 3 (ipykernel)",
   "language": "python",
   "name": "python3"
  },
  "language_info": {
   "codemirror_mode": {
    "name": "ipython",
    "version": 3
   },
   "file_extension": ".py",
   "mimetype": "text/x-python",
   "name": "python",
   "nbconvert_exporter": "python",
   "pygments_lexer": "ipython3",
   "version": "3.12.8"
  }
 },
 "nbformat": 4,
 "nbformat_minor": 5
}
