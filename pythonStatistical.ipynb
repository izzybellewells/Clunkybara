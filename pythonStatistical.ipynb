{
 "cells": [
  {
   "cell_type": "markdown",
   "id": "subject-melissa",
   "metadata": {},
   "source": [
    "## Pandas\n",
    "\n",
    "Python's data structures (lists, dictionaries, etc.) are suitable for many purposes, but complex calculations repeated over and over again will often be slow in Python. *Numpy* was developed to create structures of data (called arrays) that are much faster in mathematical operations, in large part because the data types of all the elements in an array will be the same type. These numbers often lack the context to make the content meaningful, though. *Pandas* was developed on top of numpy to create data structures that would facilitate rapid calculation of numerical data while preserving the context that allows for the selection and manipulation of that data.\n",
    "\n",
    "Pandas is not included by default in Python, but can be installed and used like any other module in Python. In the documentation, pandas is usually abbreviated as pd in the import statement."
   ]
  },
  {
   "cell_type": "code",
   "execution_count": 8,
   "id": "fleet-empty",
   "metadata": {
    "tags": []
   },
   "outputs": [],
   "source": [
    "import pandas as pd"
   ]
  },
  {
   "cell_type": "markdown",
   "id": "minimal-information",
   "metadata": {},
   "source": [
    "### Series\n",
    "\n",
    "The fundamental one-dimensional unit of pandas data is the *Series*. A series will have values that are all the same data type, and will also have index values associated with the data values. The index defaults to a series of integers (0,1,2...), but alternate values can be provided."
   ]
  },
  {
   "cell_type": "code",
   "execution_count": 2,
   "id": "stupid-reserve",
   "metadata": {
    "tags": []
   },
   "outputs": [
    {
     "name": "stdout",
     "output_type": "stream",
     "text": [
      "0    12.3\n",
      "1    -4.0\n",
      "2     8.0\n",
      "3     2.7\n",
      "dtype: float64\n"
     ]
    }
   ],
   "source": [
    "numbers = pd.Series([12.3,-4,8,2.7])\n",
    "print(numbers)"
   ]
  },
  {
   "cell_type": "code",
   "execution_count": 3,
   "id": "known-serve",
   "metadata": {},
   "outputs": [
    {
     "name": "stdout",
     "output_type": "stream",
     "text": [
      "Rick       24\n",
      "George     18\n",
      "Bob        31\n",
      "Freddie    25\n",
      "dtype: int64\n"
     ]
    }
   ],
   "source": [
    "ages = pd.Series([24,18,31,25],index=[\"Rick\",\"George\",\"Bob\",\"Freddie\"])\n",
    "print(ages)"
   ]
  },
  {
   "cell_type": "markdown",
   "id": "unexpected-preservation",
   "metadata": {},
   "source": [
    "Series can be subsetted by index, by slice or by boolean series."
   ]
  },
  {
   "cell_type": "code",
   "execution_count": 6,
   "id": "virgin-conservative",
   "metadata": {},
   "outputs": [
    {
     "name": "stdout",
     "output_type": "stream",
     "text": [
      "-4.0\n",
      "31\n",
      "George    18\n",
      "Rick      24\n",
      "George    18\n",
      "dtype: int64\n",
      "George     18\n",
      "Bob        31\n",
      "Freddie    25\n",
      "dtype: int64\n",
      "Rick        True\n",
      "George      True\n",
      "Bob        False\n",
      "Freddie     True\n",
      "dtype: bool\n"
     ]
    }
   ],
   "source": [
    "print(numbers[1])\n",
    "print(ages[\"Bob\"])\n",
    "print(ages[[\"George\",\"Rick\",\"George\"]])\n",
    "print(ages[\"George\":\"Freddie\"])\n",
    "print(ages<30)"
   ]
  },
  {
   "cell_type": "code",
   "execution_count": 8,
   "id": "71cf10e4-f1c8-47c5-b892-3f56ebc5f756",
   "metadata": {},
   "outputs": [
    {
     "name": "stdout",
     "output_type": "stream",
     "text": [
      "Bob        31\n",
      "Freddie    25\n",
      "dtype: int64\n"
     ]
    }
   ],
   "source": [
    "print(ages[ages>=25])"
   ]
  },
  {
   "cell_type": "markdown",
   "id": "narrow-alloy",
   "metadata": {},
   "source": [
    "Series values can be used in mathematical operations. Each element of the series will be used in the series, without the need to set up an explicit loop. "
   ]
  },
  {
   "cell_type": "code",
   "execution_count": 10,
   "id": "thick-review",
   "metadata": {},
   "outputs": [
    {
     "name": "stdout",
     "output_type": "stream",
     "text": [
      "0    3.69\n",
      "1   -1.20\n",
      "2    2.40\n",
      "3    0.81\n",
      "dtype: float64\n"
     ]
    }
   ],
   "source": [
    "print(numbers*0.3)"
   ]
  },
  {
   "cell_type": "code",
   "execution_count": 11,
   "id": "cfb4d853-b3ef-4ea7-a3a4-8367dbd143da",
   "metadata": {},
   "outputs": [
    {
     "name": "stdout",
     "output_type": "stream",
     "text": [
      "Rick       7.2\n",
      "George     5.4\n",
      "Bob        9.3\n",
      "Freddie    7.5\n",
      "dtype: float64\n"
     ]
    }
   ],
   "source": [
    "print(ages*0.3)"
   ]
  },
  {
   "cell_type": "code",
   "execution_count": 12,
   "id": "bigger-tyler",
   "metadata": {},
   "outputs": [
    {
     "name": "stdout",
     "output_type": "stream",
     "text": [
      "Rick       34\n",
      "George     28\n",
      "Bob        41\n",
      "Freddie    35\n",
      "dtype: int64\n"
     ]
    }
   ],
   "source": [
    "print(ages+10)"
   ]
  },
  {
   "cell_type": "markdown",
   "id": "simple-offset",
   "metadata": {},
   "source": [
    "Series can be used in mathematical operations with other series. In this case, the operations are aligned by index value, meaning the operation will be performed for each index value in the pair of series. If the two series have different values in their indices, this will lead to NaN (not a number) values for every index value that is unique to one of the series. As such, it's helpful when performing mathematical operations with multiple series if they have a common index."
   ]
  },
  {
   "cell_type": "code",
   "execution_count": 16,
   "id": "developed-portable",
   "metadata": {},
   "outputs": [
    {
     "name": "stdout",
     "output_type": "stream",
     "text": [
      "0    6.15\n",
      "1   -2.00\n",
      "2    4.00\n",
      "3    1.35\n",
      "dtype: float64\n"
     ]
    }
   ],
   "source": [
    "print(numbers*0.5)"
   ]
  },
  {
   "cell_type": "code",
   "execution_count": 15,
   "id": "3b352bfc-5c66-49c8-9e5a-aa076c84c659",
   "metadata": {},
   "outputs": [
    {
     "name": "stdout",
     "output_type": "stream",
     "text": [
      "0    3.507136\n",
      "1         NaN\n",
      "2    2.828427\n",
      "3    1.643168\n",
      "dtype: float64\n"
     ]
    }
   ],
   "source": [
    "print(numbers**0.5)"
   ]
  },
  {
   "cell_type": "markdown",
   "id": "b51f29e4-7945-478d-b182-996060164065",
   "metadata": {},
   "source": [
    "(Personal) The index needs to be changed to the same thing to add the data sets. There are undefined values, for 0, the age is undefined. So a number plus an undefined value is undefined."
   ]
  },
  {
   "cell_type": "code",
   "execution_count": 17,
   "id": "oriented-abortion",
   "metadata": {},
   "outputs": [
    {
     "name": "stdout",
     "output_type": "stream",
     "text": [
      "0         NaN\n",
      "1         NaN\n",
      "2         NaN\n",
      "3         NaN\n",
      "Bob       NaN\n",
      "Freddie   NaN\n",
      "George    NaN\n",
      "Rick      NaN\n",
      "dtype: float64\n"
     ]
    }
   ],
   "source": [
    "print(numbers+ages)"
   ]
  },
  {
   "cell_type": "markdown",
   "id": "impossible-patient",
   "metadata": {},
   "source": [
    "### Data Frames\n",
    "\n",
    "It will often be convenient, when performing calculations on different sets of numbers, to create sets of series that share a common index. The series will then have the same length, and mathematical operations between the series will be aligned appropriately. In pandas, this structure is called a *data frame*, and is the most common data structure used in data analyses in pandas. In addition to the common index, each series will also have a unique name and its own data type. This arrangement of data fits nicely into the tidy data paradigm, with each series representing a column of values corresponding to a particular variable (usually the name of the series), and each value in the index corresponding to a different observation or row.\n",
    "\n",
    "While there is a function, *DataFrame*, that can be used to create a data frame from individual series, it's more common to compile data in another file and read it into Python. There are pandas functions for reading data from different files or other sources. Reading of data from text files is generally based on the CSV (comma-separated values) format, which can be generated either by hand or by several different programs.\n",
    "\n",
    "The following code block reads data from a file that is *not* in CSV format, but still uses the read_csv function to read it. Several optional arguments are provided to indicate how the data is formatted."
   ]
  },
  {
   "cell_type": "code",
   "execution_count": 9,
   "id": "capital-millennium",
   "metadata": {},
   "outputs": [
    {
     "name": "stdout",
     "output_type": "stream",
     "text": [
      "            station        fuel    ppg     mpg\n",
      "2013-09-16  7Eleven  Unleaded87  3.459  29.886\n",
      "2013-09-26  7Eleven  Unleaded87  3.259  28.830\n",
      "2013-10-02   Murphy  Unleaded87  3.339  29.795\n",
      "2013-10-08    OnCue  Unleaded87  3.119  30.216\n",
      "2013-10-13    OnCue  Unleaded87  3.259  28.615\n",
      "2013-10-22    OnCue  Unleaded87  3.199  31.215\n",
      "2013-10-28  7Eleven  Unleaded87  3.099  30.986\n",
      "2013-11-05    OnCue  Unleaded87  2.919  30.017\n",
      "2013-11-11  CircleK         E10  2.799  28.054\n",
      "2013-11-17    Shell  Unleaded87  3.089  29.304\n",
      "2013-11-21    OnCue         E10  2.739  26.818\n",
      "2013-11-26  7Eleven  Unleaded87  3.049  28.559\n",
      "2013-12-03    Shell         E10  2.699  26.456\n",
      "2013-12-10    OnCue  Unleaded87  2.999  28.244\n",
      "2013-12-16  7Eleven  Unleaded87  2.949  25.982\n",
      "2013-12-28    OnCue  Unleaded87  3.099  26.691\n",
      "2014-01-07    OnCue  Unleaded89  3.149  28.937\n",
      "2014-01-14  7Eleven  Unleaded87  3.049  30.635\n",
      "2014-01-20    OnCue  Unleaded87  3.099  27.399\n",
      "2014-01-25  7Eleven         E10  2.989  27.255\n",
      "2014-01-30    OnCue         E10  2.999  26.939\n",
      "2014-02-04  7Eleven  Unleaded87  3.159  26.213\n",
      "2014-02-09   Valero         E10  2.979  27.917\n",
      "2014-02-14    OnCue  Unleaded87  3.299  30.699\n",
      "2014-02-20  7Eleven  Unleaded87  3.099  28.696\n",
      "2014-02-25    OnCue         E10  3.199  29.571\n",
      "2014-03-01    Shell         E10  3.259  27.780\n",
      "2014-03-08    OnCue  Unleaded87  3.479  29.013\n",
      "2014-03-14  7Eleven         E10  3.279  27.651\n",
      "2014-03-26   Valero  Unleaded87  3.389  29.765\n"
     ]
    },
    {
     "name": "stderr",
     "output_type": "stream",
     "text": [
      "C:\\Users\\cson4\\AppData\\Local\\Temp\\ipykernel_4596\\2889058362.py:1: FutureWarning: The 'delim_whitespace' keyword in pd.read_csv is deprecated and will be removed in a future version. Use ``sep='\\s+'`` instead\n",
      "  gas = pd.read_csv(\"gasoline.data\", delim_whitespace=True,\n"
     ]
    }
   ],
   "source": [
    "gas = pd.read_csv(\"gasoline.data\", delim_whitespace=True,\n",
    "                 index_col=0, parse_dates=True)\n",
    "print(gas)"
   ]
  },
  {
   "cell_type": "markdown",
   "id": "electric-attack",
   "metadata": {},
   "source": [
    "### Subsetting\n",
    "\n",
    "With a pandas data frame, it will often be helpful in performing analyses to be able to generate subsets of a collection of data for further processing. Pandas series and data frames are frequently treated like lists or dictionaries, in that the same subsetting notation (square brackets) is used for all of them. Series and data frames have additional syntax which allows for a more sophisticated selection of data.\n",
    "\n",
    "Providing a data frame with the name of a series in the data frame will return the series."
   ]
  },
  {
   "cell_type": "code",
   "execution_count": 10,
   "id": "connected-disclaimer",
   "metadata": {},
   "outputs": [
    {
     "name": "stdout",
     "output_type": "stream",
     "text": [
      "2013-09-16    Unleaded87\n",
      "2013-09-26    Unleaded87\n",
      "2013-10-02    Unleaded87\n",
      "2013-10-08    Unleaded87\n",
      "2013-10-13    Unleaded87\n",
      "2013-10-22    Unleaded87\n",
      "2013-10-28    Unleaded87\n",
      "2013-11-05    Unleaded87\n",
      "2013-11-11           E10\n",
      "2013-11-17    Unleaded87\n",
      "2013-11-21           E10\n",
      "2013-11-26    Unleaded87\n",
      "2013-12-03           E10\n",
      "2013-12-10    Unleaded87\n",
      "2013-12-16    Unleaded87\n",
      "2013-12-28    Unleaded87\n",
      "2014-01-07    Unleaded89\n",
      "2014-01-14    Unleaded87\n",
      "2014-01-20    Unleaded87\n",
      "2014-01-25           E10\n",
      "2014-01-30           E10\n",
      "2014-02-04    Unleaded87\n",
      "2014-02-09           E10\n",
      "2014-02-14    Unleaded87\n",
      "2014-02-20    Unleaded87\n",
      "2014-02-25           E10\n",
      "2014-03-01           E10\n",
      "2014-03-08    Unleaded87\n",
      "2014-03-14           E10\n",
      "2014-03-26    Unleaded87\n",
      "Name: fuel, dtype: object\n"
     ]
    }
   ],
   "source": [
    "print(gas[\"fuel\"])"
   ]
  },
  {
   "cell_type": "markdown",
   "id": "palestinian-lottery",
   "metadata": {},
   "source": [
    "Subsets of data can be selected by row identifiers (the index), column identifiers (names), and/or by boolean series for rows or columns. When using boolean series, rows or columns that have a True value in the series will be returned in the subset. Note that this code block uses the *loc* attribute to select the particular subset we are interested in. "
   ]
  },
  {
   "cell_type": "code",
   "execution_count": 4,
   "id": "unique-radiation",
   "metadata": {},
   "outputs": [
    {
     "name": "stdout",
     "output_type": "stream",
     "text": [
      "2013-09-16     True\n",
      "2013-09-26     True\n",
      "2013-10-02     True\n",
      "2013-10-08     True\n",
      "2013-10-13     True\n",
      "2013-10-22     True\n",
      "2013-10-28     True\n",
      "2013-11-05     True\n",
      "2013-11-11     True\n",
      "2013-11-17     True\n",
      "2013-11-21    False\n",
      "2013-11-26     True\n",
      "2013-12-03    False\n",
      "2013-12-10     True\n",
      "2013-12-16    False\n",
      "2013-12-28    False\n",
      "2014-01-07     True\n",
      "2014-01-14     True\n",
      "2014-01-20     True\n",
      "2014-01-25     True\n",
      "2014-01-30    False\n",
      "2014-02-04    False\n",
      "2014-02-09     True\n",
      "2014-02-14     True\n",
      "2014-02-20     True\n",
      "2014-02-25     True\n",
      "2014-03-01     True\n",
      "2014-03-08     True\n",
      "2014-03-14     True\n",
      "2014-03-26     True\n",
      "Name: mpg, dtype: bool\n"
     ]
    }
   ],
   "source": [
    "print(gas[\"mpg\"]>27)"
   ]
  },
  {
   "cell_type": "markdown",
   "id": "738ac177-2927-49fb-877d-ee562e10c09e",
   "metadata": {},
   "source": [
    "Personal note: The \"loc\" means a location. A colon indicates a slice of data of a column, the comma represents a row. So the code block below states that you want the rows that indicate mpg greater than 27. The colon represents everything (if not specified, it will automatically make it first to last column). Below, we are wanting to show the fuel to mpg columns."
   ]
  },
  {
   "cell_type": "code",
   "execution_count": 10,
   "id": "institutional-reliance",
   "metadata": {},
   "outputs": [
    {
     "name": "stdout",
     "output_type": "stream",
     "text": [
      "                  fuel    ppg     mpg\n",
      "2013-09-16  Unleaded87  3.459  29.886\n",
      "2013-09-26  Unleaded87  3.259  28.830\n",
      "2013-10-02  Unleaded87  3.339  29.795\n",
      "2013-10-08  Unleaded87  3.119  30.216\n",
      "2013-10-13  Unleaded87  3.259  28.615\n",
      "2013-10-22  Unleaded87  3.199  31.215\n",
      "2013-10-28  Unleaded87  3.099  30.986\n",
      "2013-11-05  Unleaded87  2.919  30.017\n",
      "2013-11-11         E10  2.799  28.054\n",
      "2013-11-17  Unleaded87  3.089  29.304\n",
      "2013-11-26  Unleaded87  3.049  28.559\n",
      "2013-12-10  Unleaded87  2.999  28.244\n",
      "2014-01-07  Unleaded89  3.149  28.937\n",
      "2014-01-14  Unleaded87  3.049  30.635\n",
      "2014-01-20  Unleaded87  3.099  27.399\n",
      "2014-01-25         E10  2.989  27.255\n",
      "2014-02-09         E10  2.979  27.917\n",
      "2014-02-14  Unleaded87  3.299  30.699\n",
      "2014-02-20  Unleaded87  3.099  28.696\n",
      "2014-02-25         E10  3.199  29.571\n",
      "2014-03-01         E10  3.259  27.780\n",
      "2014-03-08  Unleaded87  3.479  29.013\n",
      "2014-03-14         E10  3.279  27.651\n",
      "2014-03-26  Unleaded87  3.389  29.765\n"
     ]
    }
   ],
   "source": [
    "print(gas.loc[gas[\"mpg\"]>27,\"fuel\":\"mpg\"])"
   ]
  },
  {
   "cell_type": "markdown",
   "id": "according-scroll",
   "metadata": {},
   "source": [
    "### Grouping and Aggregating Data\n",
    "\n",
    "Data in a \"tidy\" format, with categories listed in different columns, often need to be separated into categories in the process of analyzing the data. This can be accomplished fairly readily in pandas data frames with a *groupby* method, which takes as its main argument the column (or columns, if provided with a list) that contain the categories of the data. The method returns an object that contains the groups into which the data is collected. This grouped object can be used like a list in looping structures, or it can be analyzed with *aggregating* methods that perform simple calculations on the data.\n",
    "\n",
    "The following code block groups the gasoline data by fuel and station, and calculates the mean of the price per gallon for every combination of fuel and station. To showcase another feature of pandas data frames, the resulting aggregated prices will also be displayed in a \"wide\" form, which is common for display of certain types of data. This analysis will be performed in steps, but the steps could be combined into a single line to avoid unnecessary creation of variable names."
   ]
  },
  {
   "cell_type": "code",
   "execution_count": 14,
   "id": "interim-alert",
   "metadata": {},
   "outputs": [
    {
     "name": "stdout",
     "output_type": "stream",
     "text": [
      "                         ppg\n",
      "fuel       station          \n",
      "E10        7Eleven  3.134000\n",
      "           CircleK  2.799000\n",
      "           OnCue    2.979000\n",
      "           Shell    2.979000\n",
      "           Valero   2.979000\n",
      "Unleaded87 7Eleven  3.140250\n",
      "           Murphy   3.339000\n",
      "           OnCue    3.163444\n",
      "           Shell    3.089000\n",
      "           Valero   3.389000\n",
      "Unleaded89 OnCue    3.149000\n"
     ]
    }
   ],
   "source": [
    "pricegroups = gas[[\"fuel\",\"station\",\"ppg\"]].groupby([\"fuel\",\"station\"])\n",
    "pricemean = pricegroups.mean()\n",
    "print(pricemean)"
   ]
  },
  {
   "cell_type": "code",
   "execution_count": 12,
   "id": "offensive-officer",
   "metadata": {},
   "outputs": [
    {
     "name": "stdout",
     "output_type": "stream",
     "text": [
      "                ppg                                       \n",
      "station     7Eleven CircleK Murphy     OnCue  Shell Valero\n",
      "fuel                                                      \n",
      "E10         3.13400   2.799    NaN  2.979000  2.979  2.979\n",
      "Unleaded87  3.14025     NaN  3.339  3.163444  3.089  3.389\n",
      "Unleaded89      NaN     NaN    NaN  3.149000    NaN    NaN\n"
     ]
    }
   ],
   "source": [
    "print(pricemean.unstack())"
   ]
  },
  {
   "cell_type": "markdown",
   "id": "oriented-bruce",
   "metadata": {},
   "source": [
    "## Statistical Analysis\n",
    "\n",
    "Pandas data frames are classes with methods for collecting rudimentary analyses of data, such as finding averages, sums or extreme values within the collection of data. To perform more rigorous statistical analyses, though, other Python modules can be used. The *statsmodels* module facilitates statistical analysis of data assembled in pandas data frames. The module provides several functions for doing different\n",
    "types of data analysis."
   ]
  },
  {
   "cell_type": "code",
   "execution_count": 2,
   "id": "varied-editor",
   "metadata": {},
   "outputs": [],
   "source": [
    "import statsmodels as sm"
   ]
  },
  {
   "cell_type": "code",
   "execution_count": 3,
   "id": "right-cleaners",
   "metadata": {},
   "outputs": [],
   "source": [
    "import statsmodels.formula.api as smf"
   ]
  },
  {
   "cell_type": "code",
   "execution_count": 4,
   "id": "continuous-algeria",
   "metadata": {},
   "outputs": [],
   "source": [
    "from scipy import stats"
   ]
  },
  {
   "cell_type": "markdown",
   "id": "0be3ef58-80ac-4c27-9a42-6f2f2267bbe7",
   "metadata": {},
   "source": [
    "Personal note: One sample t-test: is this data different than one single value? Like if you're measuring Cr levels, you want to know that they are below these values than the EPA, for example. \n",
    "Paired t-test, what measurements correspond and are they different from each other. For example, if a drug was useful for causing weightloss (individual before they took the drug, and individual after they took the drug, is their weight the same or is it actually different). \n",
    "Two sample t-test, bunch of measurements for unleaded 87 and E10. Not testing if they are equal to something else, no inherent relationship (two different groups that you want to see if they're the same or different). The gas prices is a good example of this."
   ]
  },
  {
   "cell_type": "markdown",
   "id": "15b85f25-26f7-406e-a541-acf49051e3ae",
   "metadata": {},
   "source": [
    "Personal note: P-value is the measurement of whether the results occurred by random chance."
   ]
  },
  {
   "cell_type": "code",
   "execution_count": 8,
   "id": "fewer-motivation",
   "metadata": {},
   "outputs": [
    {
     "data": {
      "text/plain": [
       "Ttest_indResult(statistic=2.4538705315908325, pvalue=0.020869556705461444)"
      ]
     },
     "execution_count": 8,
     "metadata": {},
     "output_type": "execute_result"
    }
   ],
   "source": [
    "stats.ttest_ind(gas[\"ppg\"][gas[\"fuel\"]==\"Unleaded87\"],\n",
    "            gas[\"ppg\"][gas[\"fuel\"]==\"E10\"])"
   ]
  },
  {
   "cell_type": "markdown",
   "id": "1f35b75f-74b4-4980-af68-b01b68231035",
   "metadata": {},
   "source": [
    "Personal note: Using different gas stations (multiple sets) doesn't allow for the use of t-tests. Instead, use analysis of variance (like a t-test but over a whole population, rather than between two sets of groups). \"ols\" is a straight line (data fit) with multiple variables that have a value of 0 or 1. Data is represented as a string, 'ppg~station'. The code below says we want the price per gallon as a function of the gas station. Ols is oridinary least squares. There is an inherent bias because this was only the gas that Dr. Malmberg was willing to buy, so if there was a significant difference, it wasn't from this data set (with these places and gas prices)."
   ]
  },
  {
   "cell_type": "code",
   "execution_count": 9,
   "id": "scenic-integral",
   "metadata": {},
   "outputs": [
    {
     "name": "stdout",
     "output_type": "stream",
     "text": [
      "                            OLS Regression Results                            \n",
      "==============================================================================\n",
      "Dep. Variable:                    ppg   R-squared:                       0.183\n",
      "Model:                            OLS   Adj. R-squared:                  0.012\n",
      "Method:                 Least Squares   F-statistic:                     1.073\n",
      "Date:                Fri, 14 Mar 2025   Prob (F-statistic):              0.400\n",
      "Time:                        13:26:16   Log-Likelihood:                 10.487\n",
      "No. Observations:                  30   AIC:                            -8.974\n",
      "Df Residuals:                      24   BIC:                           -0.5667\n",
      "Df Model:                           5                                         \n",
      "Covariance Type:            nonrobust                                         \n",
      "======================================================================================\n",
      "                         coef    std err          t      P>|t|      [0.025      0.975]\n",
      "--------------------------------------------------------------------------------------\n",
      "Intercept              3.1390      0.060     52.046      0.000       3.015       3.263\n",
      "station[T.CircleK]    -0.3400      0.200     -1.700      0.102      -0.753       0.073\n",
      "station[T.Murphy]      0.2000      0.200      1.000      0.327      -0.213       0.613\n",
      "station[T.OnCue]      -0.0192      0.080     -0.240      0.813      -0.185       0.146\n",
      "station[T.Shell]      -0.1233      0.126     -0.982      0.336      -0.382       0.136\n",
      "station[T.Valero]      0.0450      0.148      0.305      0.763      -0.260       0.350\n",
      "==============================================================================\n",
      "Omnibus:                        0.058   Durbin-Watson:                   1.133\n",
      "Prob(Omnibus):                  0.972   Jarque-Bera (JB):                0.047\n",
      "Skew:                          -0.017   Prob(JB):                        0.977\n",
      "Kurtosis:                       2.809   Cond. No.                         7.03\n",
      "==============================================================================\n",
      "\n",
      "Notes:\n",
      "[1] Standard Errors assume that the covariance matrix of the errors is correctly specified.\n"
     ]
    }
   ],
   "source": [
    "stationsmodel = smf.ols('ppg~station', data=gas)\n",
    "stationlm = stationsmodel.fit()\n",
    "print(stationlm.summary())"
   ]
  },
  {
   "cell_type": "markdown",
   "id": "driving-porcelain",
   "metadata": {},
   "source": [
    "## Visualization of Data\n",
    "\n",
    "Several Python modules have been developed to produce plots of numerical data. Pandas is designed to work particularly well with matplotlib, which is part of the same project that developed numpy, on which Pandas is based. "
   ]
  },
  {
   "cell_type": "code",
   "execution_count": 11,
   "id": "documented-production",
   "metadata": {},
   "outputs": [],
   "source": [
    "from matplotlib import pyplot as plt"
   ]
  },
  {
   "cell_type": "markdown",
   "id": "baking-polls",
   "metadata": {},
   "source": [
    "Pandas series and data frames include methods for plotting data. By default, they will use matplotlib for the functions required for creating plots.\n",
    "\n",
    "Plotting a Series will plot the values in the series as a function of the index values."
   ]
  },
  {
   "cell_type": "code",
   "execution_count": 12,
   "id": "dynamic-annex",
   "metadata": {},
   "outputs": [
    {
     "data": {
      "text/plain": [
       "<Axes: >"
      ]
     },
     "execution_count": 12,
     "metadata": {},
     "output_type": "execute_result"
    },
    {
     "data": {
      "image/png": "[encoded data removed]",
      "text/plain": [
       "<Figure size 640x480 with 1 Axes>"
      ]
     },
     "metadata": {},
     "output_type": "display_data"
    }
   ],
   "source": [
    "gas[\"ppg\"].plot()"
   ]
  },
  {
   "cell_type": "markdown",
   "id": "christian-wright",
   "metadata": {},
   "source": [
    "Pandas data frames also have a plot method associated with them."
   ]
  },
  {
   "cell_type": "code",
   "execution_count": 13,
   "id": "optional-blake",
   "metadata": {},
   "outputs": [
    {
     "data": {
      "text/plain": [
       "<Axes: >"
      ]
     },
     "execution_count": 13,
     "metadata": {},
     "output_type": "execute_result"
    },
    {
     "data": {
      "image/png": "[encoded data removed]",
      "text/plain": [
       "<Figure size 640x480 with 1 Axes>"
      ]
     },
     "metadata": {},
     "output_type": "display_data"
    }
   ],
   "source": [
    "gas.plot()"
   ]
  },
  {
   "cell_type": "markdown",
   "id": "59d1ec75-4b4f-43e9-a444-9efbd08694f3",
   "metadata": {},
   "source": [
    "Personal note: The plot above doesn't have the place or type of gas because they're strings, not numbers. So they aren't involved in the graph. "
   ]
  },
  {
   "cell_type": "markdown",
   "id": "twenty-transcript",
   "metadata": {},
   "source": [
    "Plots can be created by specifying the x and y values by column title."
   ]
  },
  {
   "cell_type": "code",
   "execution_count": 14,
   "id": "tough-clearing",
   "metadata": {},
   "outputs": [
    {
     "data": {
      "text/plain": [
       "<Axes: xlabel='ppg', ylabel='mpg'>"
      ]
     },
     "execution_count": 14,
     "metadata": {},
     "output_type": "execute_result"
    },
    {
     "data": {
      "image/png": "[encoded data removed]",
      "text/plain": [
       "<Figure size 640x480 with 1 Axes>"
      ]
     },
     "metadata": {},
     "output_type": "display_data"
    }
   ],
   "source": [
    "gas.plot(x=\"ppg\", y=\"mpg\", kind=\"scatter\")"
   ]
  },
  {
   "cell_type": "markdown",
   "id": "66f4e54f-cb90-4229-b55a-77ceda699381",
   "metadata": {},
   "source": [
    "Personal note: The code block above (and the plot) specifies what data you want at the x or y axes, and the type of graph (kind=\"scatter\")."
   ]
  },
  {
   "cell_type": "markdown",
   "id": "suspended-soccer",
   "metadata": {},
   "source": [
    "Creating a program will allow you to manage plotting while leveraging other aspects of data management in Python"
   ]
  },
  {
   "cell_type": "code",
   "execution_count": 15,
   "id": "native-geography",
   "metadata": {},
   "outputs": [
    {
     "data": {
      "text/plain": [
       "<Axes: title={'center': 'ppg'}, xlabel='fuel'>"
      ]
     },
     "execution_count": 15,
     "metadata": {},
     "output_type": "execute_result"
    },
    {
     "data": {
      "image/png": "[encoded data removed]",
      "text/plain": [
       "<Figure size 640x480 with 1 Axes>"
      ]
     },
     "metadata": {},
     "output_type": "display_data"
    }
   ],
   "source": [
    "gas.boxplot(column=\"ppg\", by=\"fuel\")"
   ]
  },
  {
   "cell_type": "markdown",
   "id": "9319b4cd-dd13-4cfd-af46-6845e78c427a",
   "metadata": {},
   "source": [
    "Personal note for reading a box plot: The green line is the mean. The box represents the 1st and 3rd quartile (so 50% of the data). The small lines outside the box indicate where 95% of the data lies. Unleaded89 doesn't have a box because there's only one point."
   ]
  },
  {
   "cell_type": "markdown",
   "id": "removed-detection",
   "metadata": {},
   "source": [
    "## Seaborn\n",
    "\n",
    "It's possible to create fairly sophisticated plots with Matplotlib, but this generally requires quite a bit of code to accomplish. Other Python modules have been developed to create more sophisticated plots with a smaller amount of code. Seaborn is a module that defines several functions for generating plots with Matplotlib, while specifying a relatively few parameters."
   ]
  },
  {
   "cell_type": "code",
   "execution_count": 16,
   "id": "alternate-render",
   "metadata": {},
   "outputs": [],
   "source": [
    "import seaborn as sns"
   ]
  },
  {
   "cell_type": "code",
   "execution_count": 17,
   "id": "intelligent-reynolds",
   "metadata": {},
   "outputs": [
    {
     "data": {
      "text/plain": [
       "<Axes: xlabel='ppg', ylabel='mpg'>"
      ]
     },
     "execution_count": 17,
     "metadata": {},
     "output_type": "execute_result"
    },
    {
     "data": {
      "image/png": "[encoded data removed]",
      "text/plain": [
       "<Figure size 640x480 with 1 Axes>"
      ]
     },
     "metadata": {},
     "output_type": "display_data"
    }
   ],
   "source": [
    "sns.scatterplot(x=\"ppg\",y=\"mpg\",hue=\"station\",data=gas)"
   ]
  },
  {
   "cell_type": "code",
   "execution_count": null,
   "id": "disabled-brunswick",
   "metadata": {},
   "outputs": [],
   "source": []
  }
 ],
 "metadata": {
  "kernelspec": {
   "display_name": "Python 3 (ipykernel)",
   "language": "python",
   "name": "python3"
  },
  "language_info": {
   "codemirror_mode": {
    "name": "ipython",
    "version": 3
   },
   "file_extension": ".py",
   "mimetype": "text/x-python",
   "name": "python",
   "nbconvert_exporter": "python",
   "pygments_lexer": "ipython3",
   "version": "3.12.8"
  }
 },
 "nbformat": 4,
 "nbformat_minor": 5
}
