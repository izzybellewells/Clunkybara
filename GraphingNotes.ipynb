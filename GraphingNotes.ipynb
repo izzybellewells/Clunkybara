{
 "cells": [
  {
   "cell_type": "code",
   "execution_count": null,
   "id": "0e790c88-e8a5-461a-bc01-93da672089f1",
   "metadata": {},
   "outputs": [],
   "source": [
    "import pandas as pd"
   ]
  },
  {
   "cell_type": "markdown",
   "id": "bc87f053-72b7-4038-831e-c1a12e40dfe3",
   "metadata": {},
   "source": [
    "\n",
    "Matplotlib might not need to be imported, but I would rather have it available if needed"
   ]
  },
  {
   "cell_type": "code",
   "execution_count": null,
   "id": "951d0c09-71a2-4a05-8d20-05f2b3fa4a08",
   "metadata": {},
   "outputs": [],
   "source": [
    "from matplotlib import pyplot as plt"
   ]
  },
  {
   "cell_type": "markdown",
   "id": "7a496b9e-19f6-4aa0-8e4a-540989237703",
   "metadata": {},
   "source": [
    "\n",
    "The specifics of the code for the plotting is dependant on the way that things are named and formatted in the analysis section, therefore this is just a skeleton that I will alter as needed. "
   ]
  },
  {
   "cell_type": "code",
   "execution_count": null,
   "id": "f80a77ea-d447-4500-80f7-e42787c14315",
   "metadata": {},
   "outputs": [],
   "source": [
    "data[\"series\"].plot()"
   ]
  },
  {
   "cell_type": "markdown",
   "id": "ac944012-73de-4099-a903-48198401aabb",
   "metadata": {},
   "source": [
    "\n",
    "...OR potentially the below code, depending on what kind of plot is needed.  "
   ]
  },
  {
   "cell_type": "code",
   "execution_count": null,
   "id": "0d7d852f-e40e-43d8-876e-b2d5dad1b4cb",
   "metadata": {},
   "outputs": [],
   "source": [
    "data.plot(x=\"series\", y=\"series2\", kind=\"scatter\")"
   ]
  },
  {
   "cell_type": "markdown",
   "id": "ebb5c71e-4e7f-409b-830e-b710269bc65d",
   "metadata": {},
   "source": [
    "\n",
    "Seaborn is also potentially a possiblity, though I won't note the base code for that here unless I realize that it is needed"
   ]
  }
 ],
 "metadata": {
  "kernelspec": {
   "display_name": "Python 3 (ipykernel)",
   "language": "python",
   "name": "python3"
  },
  "language_info": {
   "codemirror_mode": {
    "name": "ipython",
    "version": 3
   },
   "file_extension": ".py",
   "mimetype": "text/x-python",
   "name": "python",
   "nbconvert_exporter": "python",
   "pygments_lexer": "ipython3",
   "version": "3.12.8"
  }
 },
 "nbformat": 4,
 "nbformat_minor": 5
}
